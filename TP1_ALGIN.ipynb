{
 "cells": [
  {
   "cell_type": "markdown",
   "metadata": {},
   "source": [
    "# TP3 --- RÉSOLUTION DE SYSTÈMES LINÉAIRES\n",
    "\n",
    "[Python 3 -- testé avec Python 3.8.5]\n",
    "\n",
    "Le thème de ce TP est la résolution de systèmes d'équations linéaires de la forme $AX = B$ pour une matrice $A \\in M_n(\\mathbb{R})$ et un vecteur $B \\in M_{n,1}(\\mathbb{R})$. On implémentera la méthode du pivot de Gauss.\n",
    "\n",
    "Chargement des paquets utiles :"
   ]
  },
  {
   "cell_type": "code",
   "execution_count": 1,
   "metadata": {},
   "outputs": [],
   "source": [
    "import numpy as np"
   ]
  },
  {
   "cell_type": "markdown",
   "metadata": {},
   "source": [
    "## 0. Commandes utiles\n",
    "\n",
    "Voici quelques commandes utiles dont vous pourrez avoir besoin dans ce TP. La commande `np.array` transforme une liste de listes en une matrice. Ainsi, une matrice $M = (a_{i, j})_{\\substack{0 \\leqslant i < n \\\\ 0 \\leqslant j < p}} \\in \\mathcal{M}_{n, p}(\\mathbb{R})$ sera représentée par un tableau `M` (de type `ndarray`) grâce à la commande :\n",
    "```\n",
    "M = np.array([[a_00, ..., a_0(p-1)], ..., [a_(n-1)0, ..., a_(n-1)(p-1)]], dtype=float)\n",
    "```\n",
    "\n",
    "**Attention** : Pour suivre la convention de Python, nous numéroterons les coefficients à partir de $0$.\n",
    "\n",
    "**Attention** : Pour travailler avec des réels, nous précisons bien l'option `dtype=float`.\n",
    "\n",
    "Alors :\n",
    "- `np.shape(M)` renvoie la taille $(n, p)$ de $M$ ;\n",
    "- `M[i, j]` renvoie le coefficient $a_{i, j}$ ;\n",
    "- `M[i, :]` renvoie la ligne $i$ de $M$ ;\n",
    "- `M[:, j]` renvoie la colonne $j$ de $M$ ;\n",
    "- `M[i1:i2, j1:j2]` renvoie la matrice extraite $(a_{i, j})_{\\substack{i_1 \\leqslant i < i_2 \\\\ j_1 \\leqslant j < j_2}}$ ;\n",
    "- `np.concatenate((M, N), axis=0)` renvoie une matrice contenant $M$ et $N$ l'une au-dessus de l'autre.\n",
    "- `np.concatenate((M, N), axis=1)` renvoie une matrice contenant $M$ et $N$ côte à côte.\n",
    "\n",
    "Observer et comprendre les commandes ci-dessous."
   ]
  },
  {
   "cell_type": "code",
   "execution_count": 2,
   "metadata": {},
   "outputs": [
    {
     "name": "stdout",
     "output_type": "stream",
     "text": [
      "M =\n",
      " [[ 1.  2.  3.  4.]\n",
      " [ 5.  6.  7.  8.]\n",
      " [ 9. 10. 11. 12.]]\n",
      "np.shape(M) = (3, 4)\n",
      "M[0, 2] =\n",
      " 3.0\n",
      "M[0, :] =\n",
      " [1. 2. 3. 4.]\n",
      "M[:, 1] =\n",
      " [ 2.  6. 10.]\n",
      "M[1:3, 2:4] =\n",
      " [[ 7.  8.]\n",
      " [11. 12.]]\n"
     ]
    }
   ],
   "source": [
    "M = np.array([[1, 2, 3, 4], [5, 6, 7, 8], [9, 10, 11, 12]], dtype=float)\n",
    "print(\"M =\\n\", M)\n",
    "print(\"np.shape(M) =\", np.shape(M))\n",
    "print(\"M[0, 2] =\\n\", M[0, 2])\n",
    "print(\"M[0, :] =\\n\", M[0, :])\n",
    "print(\"M[:, 1] =\\n\", M[:, 1])\n",
    "print(\"M[1:3, 2:4] =\\n\", M[1:3, 2:4])"
   ]
  },
  {
   "cell_type": "markdown",
   "metadata": {},
   "source": [
    "On peut ainsi multiplier une ligne d'une matrice par un nombre, ou remplacer une ligne par elle-même plus (un multiple d')une autre :"
   ]
  },
  {
   "cell_type": "code",
   "execution_count": 3,
   "metadata": {},
   "outputs": [
    {
     "name": "stdout",
     "output_type": "stream",
     "text": [
      "[[ 1.  2.  3.  4.]\n",
      " [ 5.  6.  7.  8.]\n",
      " [ 9. 10. 11. 12.]]\n",
      "[[ 4.  8. 12. 16.]\n",
      " [ 5.  6.  7.  8.]\n",
      " [ 9. 10. 11. 12.]]\n",
      "[[ 4.  8. 12. 16.]\n",
      " [14. 16. 18. 20.]\n",
      " [ 9. 10. 11. 12.]]\n",
      "[[  4.   8.  12.  16.]\n",
      " [ 14.  16.  18.  20.]\n",
      " [  1.  -6. -13. -20.]]\n"
     ]
    }
   ],
   "source": [
    "M = np.array([[1, 2, 3, 4], [5, 6, 7, 8], [9, 10, 11, 12]], dtype=float)\n",
    "print(M)\n",
    "\n",
    "M[0, :] = 4 * M[0, :]\n",
    "print(M)\n",
    "\n",
    "M[1, :] = M[1, :] + M[2, :]\n",
    "print(M)\n",
    "\n",
    "M[2, :] = M[2, :] - 2 * M[0, :]\n",
    "print(M)"
   ]
  },
  {
   "cell_type": "markdown",
   "metadata": {},
   "source": [
    "**Attention** : Quand on affecte une sous-matrice à une nouvelle matrice, l'espace mémoire n'est pas dupliqué. Pour dupliquer l'expace mémoire il faut créer une nouvelle matrice avec `np.array`. Comparer les deux blocs suivants."
   ]
  },
  {
   "cell_type": "code",
   "execution_count": 4,
   "metadata": {},
   "outputs": [
    {
     "name": "stdout",
     "output_type": "stream",
     "text": [
      "M =\n",
      " [[ 1.  2.  3.  4.]\n",
      " [ 5.  6.  7.  8.]\n",
      " [ 9. 10. 11. 12.]]\n",
      "L_1 =\n",
      " [5. 0. 7. 8.]\n",
      "M =\n",
      " [[ 1.  2.  3.  4.]\n",
      " [ 5.  0.  7.  8.]\n",
      " [ 9. 10. 11. 12.]]\n"
     ]
    }
   ],
   "source": [
    "M = np.array([[1, 2, 3, 4], [5, 6, 7, 8], [9, 10, 11, 12]], dtype=float)\n",
    "\n",
    "print(\"M =\\n\", M)\n",
    "\n",
    "L_1 = M[1, :]    # L_1 pointe vers la ligne 1 de la matrice M.\n",
    "L_1[1] = 0\n",
    "\n",
    "print(\"L_1 =\\n\", L_1)\n",
    "print(\"M =\\n\", M)"
   ]
  },
  {
   "cell_type": "code",
   "execution_count": 5,
   "metadata": {},
   "outputs": [
    {
     "name": "stdout",
     "output_type": "stream",
     "text": [
      "M =\n",
      " [[ 1.  2.  3.  4.]\n",
      " [ 5.  6.  7.  8.]\n",
      " [ 9. 10. 11. 12.]]\n",
      "L_1 =\n",
      " [5. 0. 7. 8.]\n",
      "M =\n",
      " [[ 1.  2.  3.  4.]\n",
      " [ 5.  6.  7.  8.]\n",
      " [ 9. 10. 11. 12.]]\n"
     ]
    }
   ],
   "source": [
    "M = np.array([[1, 2, 3, 4], [5, 6, 7, 8], [9, 10, 11, 12]], dtype=float)\n",
    "\n",
    "print(\"M =\\n\", M)\n",
    "\n",
    "L_1 = np.array(M[1, :])    # L_1 est une nouvelle matrice, indépendante de M.\n",
    "L_1[1] = 0\n",
    "\n",
    "print(\"L_1 =\\n\", L_1)\n",
    "print(\"M =\\n\", M)"
   ]
  },
  {
   "cell_type": "markdown",
   "metadata": {},
   "source": [
    "Enfin, pour concaténer deux matrices, on utilise la commande `np.concatenate`. Observer et comprendre les commandes ci-dessous."
   ]
  },
  {
   "cell_type": "code",
   "execution_count": 6,
   "metadata": {},
   "outputs": [
    {
     "name": "stdout",
     "output_type": "stream",
     "text": [
      "M =\n",
      " [[ 1.  2.  3.  4.]\n",
      " [ 5.  6.  7.  8.]\n",
      " [ 9. 10. 11. 12.]]\n",
      "N =\n",
      " [[13. 14. 15. 16.]\n",
      " [17. 18. 19. 20.]\n",
      " [21. 22. 23. 24.]]\n",
      "np.concatenate((M, N), axis=0) =\n",
      " [[ 1.  2.  3.  4.]\n",
      " [ 5.  6.  7.  8.]\n",
      " [ 9. 10. 11. 12.]\n",
      " [13. 14. 15. 16.]\n",
      " [17. 18. 19. 20.]\n",
      " [21. 22. 23. 24.]]\n",
      "np.concatenate((M, N), axis=1) =\n",
      " [[ 1.  2.  3.  4. 13. 14. 15. 16.]\n",
      " [ 5.  6.  7.  8. 17. 18. 19. 20.]\n",
      " [ 9. 10. 11. 12. 21. 22. 23. 24.]]\n"
     ]
    }
   ],
   "source": [
    "M = np.array([[1, 2, 3, 4], [5, 6, 7, 8], [9, 10, 11, 12]], dtype=float)\n",
    "print(\"M =\\n\", M)\n",
    "N = np.array([[13, 14, 15, 16], [17, 18, 19, 20], [21, 22, 23, 24]], dtype=float)\n",
    "print(\"N =\\n\", N)\n",
    "\n",
    "print(\"np.concatenate((M, N), axis=0) =\\n\", np.concatenate((M, N), axis=0))\n",
    "print(\"np.concatenate((M, N), axis=1) =\\n\", np.concatenate((M, N), axis=1))"
   ]
  },
  {
   "cell_type": "markdown",
   "metadata": {},
   "source": [
    "## 1. Un premier exemple\n",
    "\n",
    "Le système linéaire suivant :\n",
    "$$\n",
    "(\\mathcal{S}) \\quad \\left\\lbrace\n",
    "\\begin{array}{rcrcrlc}\n",
    "2 x_0 & + & 4 x_1 & - & x_2 & = & 1 \\\\\n",
    "4 x_0 & & & - & 2 x_2 & = & 0 \\\\\n",
    "x_0 & + & 2 x_1 & + & x_2 & = & 2\n",
    "\\end{array}\n",
    "\\right.\n",
    "$$\n",
    "est équivalent à l'équation matricielle $A X = B$ d'inconnue $X = \\begin{pmatrix} x_0 \\\\ x_1 \\\\ x_2 \\end{pmatrix}$, où $A$ est la matrice du système et $B$ le vecteur colonne des seconds membres. Définir la matrice `A` et le vecteur `B` correspondants."
   ]
  },
  {
   "cell_type": "code",
   "execution_count": 7,
   "metadata": {},
   "outputs": [],
   "source": [
    "# Solution\n",
    "A = np.array([[2,4,-1],[4,0,-2],[1,2,1]], dtype=float)\n",
    "B = np.array([[1],[0],[2]], dtype=float)\n",
    "# Fin solution"
   ]
  },
  {
   "cell_type": "markdown",
   "metadata": {},
   "source": [
    "On souhaite résoudre le système $(\\mathcal{S})$ en utilisant la méthode du pivot de Gauss. Les seules opérations élémentaires autorisées sont :\n",
    "- les **permutations** de lignes $L_i \\leftrightarrow L_j$ ($i \\neq j$) ;\n",
    "- les **dilatations** de lignes $L_i \\leftarrow \\alpha L_i$ ($\\alpha \\in \\mathbb{R} \\setminus \\{ 0 \\}$) ;\n",
    "- et les **transvections** sur les lignes $L_i \\leftarrow L_i + \\beta L_j$ ($i \\neq j$ et $\\beta \\in \\mathbb{R}$).\n",
    "\n",
    "On définit, à l'aide de la commande `np.concatenate`, la matrice `S` (élément de $\\mathcal{M}_{3,4}(\\mathbb{R})$) dont les 3 premières colonnes correspondent à la matrice `A`, et la dernière colonne au vecteur `B`. Cette matrice `S` représente complètement notre système linéaire."
   ]
  },
  {
   "cell_type": "code",
   "execution_count": 8,
   "metadata": {},
   "outputs": [
    {
     "name": "stdout",
     "output_type": "stream",
     "text": [
      "S =\n",
      " [[ 2.  4. -1.  1.]\n",
      " [ 4.  0. -2.  0.]\n",
      " [ 1.  2.  1.  2.]]\n"
     ]
    }
   ],
   "source": [
    "S = np.concatenate((A, B), axis=1)\n",
    "print(\"S =\\n\", S)"
   ]
  },
  {
   "cell_type": "markdown",
   "metadata": {},
   "source": [
    "Effectuer sur la matrice `S` les opérations élémentaires correspondant à l'algorithme du pivot de Gauss et qui aboutissent à une matrice de la forme\n",
    "$$\n",
    "S_{\\text{échelonné}} =\n",
    "\\begin{pmatrix}\n",
    "1 & * & * & b'_0 \\\\\n",
    "0 & 1 & * & b'_1 \\\\\n",
    "0 & 0 & 1 & b'_2\n",
    "\\end{pmatrix} .\n",
    "$$"
   ]
  },
  {
   "cell_type": "code",
   "execution_count": 9,
   "metadata": {},
   "outputs": [
    {
     "name": "stdout",
     "output_type": "stream",
     "text": [
      "S =\n",
      " [[ 1.    2.   -0.5   0.5 ]\n",
      " [-0.    1.   -0.    0.25]\n",
      " [ 0.    0.    1.    1.  ]]\n"
     ]
    }
   ],
   "source": [
    "S_echelonne = np.array(S)    # On copie la matrice S pour que la matrice S elle-même ne soit pas modifiée.\n",
    "\n",
    "# Solution\n",
    "for k in range(4):\n",
    "    S_echelonne[1,k] = S_echelonne[1,k] - 2* S_echelonne[0,k]\n",
    "    S_echelonne[2,k] = S_echelonne[2,k] - (1/2)*S_echelonne[0,k]\n",
    "    S_echelonne[0,k] = (1/2)*S_echelonne[0,k]\n",
    "    S_echelonne[1,k] = (1/-8)* S_echelonne[1,k] \n",
    "    S_echelonne[2,k] = S_echelonne[2,k]*(2/3)\n",
    "     \n",
    "print(\"S =\\n\", S_echelonne)\n",
    "# Fin solution"
   ]
  },
  {
   "cell_type": "markdown",
   "metadata": {},
   "source": [
    "Enfin, on va effectuer sur la matrice `S_echelonne` des opérations élémentaires pour aboutir à une matrice de la forme\n",
    "$$\n",
    "S_{\\text{résolu}} =\n",
    "\\begin{pmatrix}\n",
    "1 & 0 & 0 & b''_0 \\\\\n",
    "0 & 1 & 0 & b''_1 \\\\\n",
    "0 & 0 & 1 & b''_2\n",
    "\\end{pmatrix} .\n",
    "$$\n",
    "\n",
    "Effectuer une suite de transvections sur les lignes pour transformer la colonne 2 de $S_{\\text{échelonné}}$ en la colonne $\\begin{pmatrix} 0 \\\\ 0 \\\\ 1 \\end{pmatrix}$."
   ]
  },
  {
   "cell_type": "code",
   "execution_count": 10,
   "metadata": {},
   "outputs": [
    {
     "name": "stdout",
     "output_type": "stream",
     "text": [
      "S =\n",
      " [[ 1.    2.    0.    1.  ]\n",
      " [-0.    1.   -0.    0.25]\n",
      " [ 0.    0.    1.    1.  ]]\n"
     ]
    }
   ],
   "source": [
    "S_resolu = np.array(S_echelonne)    # On copie la matrice S_echelonne et on travaillera sur S_resolu.\n",
    "\n",
    "# Solution\n",
    "for k in range(4):\n",
    "    S_resolu[0,k] = S_resolu[0,k] + 0.5* S_resolu[2,k]\n",
    "print(\"S =\\n\", S_resolu)\n",
    "# Fin solution"
   ]
  },
  {
   "cell_type": "markdown",
   "metadata": {},
   "source": [
    "Effectuer une transvection sur les lignes pour transformer la colonne 1 en la colonne $\\begin{pmatrix} 0 \\\\ 1 \\\\ 0 \\end{pmatrix}$ (sans changer la dernière colonne)."
   ]
  },
  {
   "cell_type": "code",
   "execution_count": 11,
   "metadata": {},
   "outputs": [
    {
     "name": "stdout",
     "output_type": "stream",
     "text": [
      "S =\n",
      " [[ 1.    0.    0.    0.5 ]\n",
      " [-0.    1.   -0.    0.25]\n",
      " [ 0.    0.    1.    1.  ]]\n"
     ]
    }
   ],
   "source": [
    "# Solution\n",
    "for k in range(4):\n",
    "    S_resolu[0,k] = S_resolu[0,k] - 2 * S_resolu[1,k]\n",
    "print(\"S =\\n\", S_resolu)\n",
    "# Fin solution"
   ]
  },
  {
   "cell_type": "markdown",
   "metadata": {},
   "source": [
    "La matrice obtenue correspond au système résolu\n",
    "$$\n",
    "(\\mathcal{S}_\\text{résolu}) \\quad \\left\\lbrace\n",
    "\\begin{array}{rcrcrl}\n",
    "x_0 & & & & & = b''_0 \\\\\n",
    "& & x_1 & & & = b''_1 \\\\\n",
    "& & & & x_2 & = b''_2 .\n",
    "\\end{array}\n",
    "\\right.\n",
    "$$\n",
    "On peut vérifier le résultat obtenu à l'aide de la fonction `np.linalg.solve` :"
   ]
  },
  {
   "cell_type": "code",
   "execution_count": 12,
   "metadata": {},
   "outputs": [
    {
     "data": {
      "text/plain": [
       "array([[0.5 ],\n",
       "       [0.25],\n",
       "       [1.  ]])"
      ]
     },
     "execution_count": 12,
     "metadata": {},
     "output_type": "execute_result"
    }
   ],
   "source": [
    "np.linalg.solve(A, B)"
   ]
  },
  {
   "cell_type": "markdown",
   "metadata": {},
   "source": [
    "## 2. Opérations élémentaires\n",
    "\n",
    "On définit la fonction `Permutation(M, i, j)` qui renvoie la matrice obtenue à partir d'une matrice `M` en échangeant les lignes `i` et `j`."
   ]
  },
  {
   "cell_type": "code",
   "execution_count": 13,
   "metadata": {},
   "outputs": [],
   "source": [
    "def Permutation(M, i, j):\n",
    "    M_1 = np.array(M)    # On copie la matrice M pour que la matrice M elle-même ne soit pas modifiée.\n",
    "    M_1[i, :] = M[j, :]\n",
    "    M_1[j, :] = M[i, :]\n",
    "    return(M_1)"
   ]
  },
  {
   "cell_type": "markdown",
   "metadata": {},
   "source": [
    "Définir de même des fonctions `Dilatation(M, i, alpha)` et `Transvection(M, i, j, beta)` qui prennent en argument une matrice `M` et les paramètres d'une opération élémentaire sur les lignes (définie dans la section précédente), et renvoient la matrice modifiée en conséquence."
   ]
  },
  {
   "cell_type": "code",
   "execution_count": 41,
   "metadata": {},
   "outputs": [],
   "source": [
    "def Dilatation(M, i, beta):\n",
    "    # Solution\n",
    "    \n",
    "    N = np.array(M)\n",
    "    N[i,:] = beta * M[i,:]\n",
    "    return(N)\n",
    "\n",
    "    # Fin solution\n",
    "\n",
    "def Transvection(M, i, j, beta):\n",
    "    # Solution\n",
    "    N = np.array(M)\n",
    "    N[i,:] = N[i,:] + beta * M[j,:]\n",
    "    return(N)\n",
    "   \n",
    "    # Fin solution"
   ]
  },
  {
   "cell_type": "markdown",
   "metadata": {},
   "source": [
    "Tester les fonctions `Permutation(M, i, j)`, `Dilatation(M, i, alpha)` et `Transvection(M, i, j, beta)` sur la matrice\n",
    "$$\n",
    "C = \\begin{pmatrix}\n",
    "1 & 1 & -1 \\\\\n",
    "1 & 0 & 0 \\\\\n",
    "2 & 0 & 1 \\\\\n",
    "3 & -2 & 0\n",
    "\\end{pmatrix} .\n",
    "$$"
   ]
  },
  {
   "cell_type": "code",
   "execution_count": 44,
   "metadata": {
    "scrolled": true
   },
   "outputs": [
    {
     "name": "stdout",
     "output_type": "stream",
     "text": [
      "C =\n",
      " [[ 1.  1. -1.]\n",
      " [ 1.  0.  0.]\n",
      " [ 2.  0.  1.]\n",
      " [ 3. -2.  0.]]\n",
      "Dilatation(C,0,2)\n",
      " [[ 2.  2. -2.]\n",
      " [ 1.  0.  0.]\n",
      " [ 2.  0.  1.]\n",
      " [ 3. -2.  0.]]\n",
      "Permutation(C,0,3) =\n",
      " [[ 3. -2.  0.]\n",
      " [ 1.  0.  0.]\n",
      " [ 2.  0.  1.]\n",
      " [ 1.  1. -1.]]\n",
      "Transvection(C,1,2) =\n",
      " [[ 1.  1. -1.]\n",
      " [ 5.  0.  2.]\n",
      " [ 2.  0.  1.]\n",
      " [ 3. -2.  0.]]\n"
     ]
    }
   ],
   "source": [
    "C = np.array([[1, 1, -1], [1, 0, 0], [2, 0, 1], [3, -2, 0]], dtype=float)\n",
    "print(\"C =\\n\", C)\n",
    "\n",
    "# Solution\n",
    "print(\"Dilatation(C,0,2)\\n\", Dilatation(C,0,2))\n",
    "print(\"Permutation(C,0,3) =\\n\", Permutation(C,0,3))\n",
    "print(\"Transvection(C,1,2) =\\n\", Transvection(C,1,2,2))\n",
    "# Fin solution"
   ]
  },
  {
   "cell_type": "markdown",
   "metadata": {},
   "source": [
    "Écrire une fonction `SuiteTransvections(M, beta)` qui prend en argument une matrice `M` à $n$ lignes et une liste `beta` contenant $n - 1$ scalaires $\\beta_1$, ..., $\\beta_{n-1}$, et qui renvoie la matrice obtenue en transformant $M$ par la suite d'opérations :\n",
    "\\begin{align*}\n",
    "L_1 & \\leftarrow L_1 + \\beta_1 L_0 , \\\\\n",
    "L_2 & \\leftarrow L_2 + \\beta_2 L_0 , \\\\\n",
    "& \\vdots \\\\\n",
    "L_{n-1} & \\leftarrow L_{n-1} + \\beta_{n-1} L_0 .\n",
    "\\end{align*}"
   ]
  },
  {
   "cell_type": "code",
   "execution_count": 37,
   "metadata": {},
   "outputs": [],
   "source": [
    "def SuiteTransvections(M, beta):\n",
    "    (n, p) = np.shape(M)    # On récupère ainsi la taille (n, p) de la matrice M.\n",
    "    M_modifiee = np.array(M)    # On copie la matrice M pour que la matrice M elle-même ne soit pas modifiée.\n",
    "    # Solution\n",
    "    \n",
    "    # Fin solution"
   ]
  },
  {
   "cell_type": "markdown",
   "metadata": {},
   "source": [
    "Tester la fonction `SuiteTransvections(M, beta)` sur la matrice $C$."
   ]
  },
  {
   "cell_type": "code",
   "execution_count": null,
   "metadata": {},
   "outputs": [],
   "source": [
    "SuiteTransvections(C, [-1, -2, -3])"
   ]
  },
  {
   "cell_type": "markdown",
   "metadata": {},
   "source": [
    "## 3. Résolution d'un système triangulaire inversible\n",
    "\n",
    "L'algorithme du pivot de Gauss permet, en utilisant uniquement des opérations élémentaires sur les lignes, de transformer un système linéaire quelconque $A X = B$ en un système **échelonné**, c'est-à-dire un système qui s'écrit sous la forme $E X = \\hat{B}$, où la matrice $E$ est **échelonnée**, au sens où :\n",
    "* le premier coefficient non nul de chaque ligne est égal à $1$ ;\n",
    "* quand on passe d'une ligne à la suivante, le nombre de zéros en début de ligne augmente strictement, jusqu'à rester (éventuellement) constamment égal au nombre de colonnes de $E$.\n",
    "\n",
    "Une fois le système mis sous cette forme, il devient facile à résoudre, en utilisant seulement des transvections sur les lignes.\n",
    "\n",
    "Si l'on part d'une matrice $A$ carrée et inversible, on aboutit à une matrice $E$ triangulaire supérieure dont tous les éléments diagonaux sont égaux à $1$ :\n",
    "$$\n",
    "E = \\begin{pmatrix}\n",
    "1 & & (e_{ij}) \\\\\n",
    "& \\ddots & \\\\\n",
    "(0) & & 1\n",
    "\\end{pmatrix}\n",
    "$$\n",
    "\n",
    "Reprendre la matrice $S_{\\text{échelonné}}$ (obtenue dans la section 1) et utiliser la fonction `Transvection(M, i, j, beta)` pour obtenir la matrice $S_{\\text{résolu}}$."
   ]
  },
  {
   "cell_type": "code",
   "execution_count": null,
   "metadata": {},
   "outputs": [],
   "source": [
    "# Solution\n",
    "\n",
    "# Fin solution"
   ]
  },
  {
   "cell_type": "markdown",
   "metadata": {},
   "source": [
    "Écrire une fonction `ResolutionEchelonne(S_echelonne)` qui prend en argument une matrice `S_echelonne` à $n$ lignes, dont les $n$ premières colonnes forment une matrice $E$ triangulaire supérieure avec des $1$ sur la diagonale, et qui renvoie la matrice modifiée par la suite de transvections permettant de transformer $E$ en la matrice identité."
   ]
  },
  {
   "cell_type": "code",
   "execution_count": null,
   "metadata": {},
   "outputs": [],
   "source": [
    "def ResolutionEchelonne(S_echelonne):\n",
    "    # Solution\n",
    "    \n",
    "    # Fin solution"
   ]
  },
  {
   "cell_type": "markdown",
   "metadata": {},
   "source": [
    "Tester la fonction `ResolutionEchelonne(S_echelonne)` en résolvant les systèmes\n",
    "$$\n",
    "(\\mathcal{S}_0) \\quad \\left\\lbrace\n",
    "\\begin{array}{rcrcrlc}\n",
    "x_0 & + & x_1 &- &2 x_2 & =& 0 \\\\\n",
    "& & x_1 & + & 3 x_2 & = & -1 \\\\\n",
    "& & & & x_2 & = & 1\n",
    "\\end{array}\n",
    "\\right.\n",
    "$$\n",
    "et\n",
    "$$\n",
    "(\\mathcal{S}_1) \\quad \\left\\lbrace\n",
    "\\begin{array}{rcrcrcrlc}\n",
    "x_0 & - & 2 x_1& + & x_2 & + & 5 x_3 & = & 2 \\\\\n",
    "& & x_1 & + & 3 x_2 & - & x_3 & = & 0 \\\\\n",
    "& & & & x_2 & + & 4 x_3 & = & 1 \\\\\n",
    "& & & & & & x_3 & = & -1 .\n",
    "\\end{array}\n",
    "\\right.\n",
    "$$"
   ]
  },
  {
   "cell_type": "code",
   "execution_count": null,
   "metadata": {},
   "outputs": [],
   "source": [
    "E_0 = np.array([[1, 1, -2], [0, 1, 3], [0, 0, 1]], dtype=float)\n",
    "B_0 = np.array([[0], [-1], [1]], dtype=float)\n",
    "S_0 = np.concatenate((E_0, B_0), axis=1)\n",
    "\n",
    "print(\"S_0 =\\n\", S_0)\n",
    "print(\"S_0_resolu :\\n\", ResolutionEchelonne(S_0))\n",
    "print(\"Vérification : np.linalg.solve(E_0, B_0) =\\n\", np.linalg.solve(E_0, B_0))\n",
    "\n",
    "S_1 = np.array([[1, -2, 1, 5, 2], [0, 1, 3, -1, 0], [0, 0, 1, 4, 1], [0, 0, 0, 1, -1]], dtype=float)\n",
    "\n",
    "print(\"S_1 =\\n\", S_1)\n",
    "print(\"S_1_resolu :\\n\", ResolutionEchelonne(S_1))\n",
    "print(\"Vérification : np.linalg.solve(S_1[:, 0:4], S_1[:, 4]) =\\n\", np.linalg.solve(S_1[:, 0:4], S_1[:, 4]))"
   ]
  },
  {
   "cell_type": "markdown",
   "metadata": {},
   "source": [
    "## 4. Algorithme du pivot de Gauss\n",
    "\n",
    "### 4.1. Choix d'un pivot\n",
    "\n",
    "Définir une fonction `ChoixPivot(S)` qui prend en argument une matrice `S` de taille quelconque et renvoie une matrice `S_choix` obtenue à partir de `S` en trouvant dans la colonne $0$ de `S` un élément non nul (pivot), puis en permutant et dilatant des lignes de sorte que le pivot soit en ligne $0$ et égal à $1$. Si ce n'est pas possible, la fonction affiche un message d'erreur et renvoie `None`.\n",
    "\n",
    "Pour trouver un élément non nul, on choisira l'élément de valeur absolue maximale en utilisant les fonctions `abs` et `np.argmax`."
   ]
  },
  {
   "cell_type": "code",
   "execution_count": null,
   "metadata": {},
   "outputs": [],
   "source": [
    "def ChoixPivot(S):\n",
    "    i = np.argmax(abs(S[:, 0]))\n",
    "    # Solution\n",
    "    \n",
    "    # Fin solution"
   ]
  },
  {
   "cell_type": "markdown",
   "metadata": {},
   "source": [
    "Tester la fonction `ChoixPivot(S)` sur les matrices suivantes : `S_2 = S` (matrice définie dans la section 1),\n",
    "$$\n",
    "S_3 = \\begin{pmatrix}\n",
    "0 & 1 & 1 & 0 \\\\\n",
    "1 & 0 & 0 & 1 \\\\\n",
    "2 & 0 & 3 & 0\n",
    "\\end{pmatrix} ,\n",
    "\\quad\n",
    "S_4 = \\begin{pmatrix}\n",
    "0 & 1 & 0 \\\\\n",
    "0 & 0 & 2\n",
    "\\end{pmatrix}\n",
    "$$\n",
    "et `S_5 = np.random.randn(10, 11)` (matrice aléatoire)."
   ]
  },
  {
   "cell_type": "code",
   "execution_count": null,
   "metadata": {},
   "outputs": [],
   "source": [
    "# S_2\n",
    "S_2 = S    # Matrice définie dans la section 1.\n",
    "print(\"S_2 =\\n\", S_2)\n",
    "\n",
    "S_2_choix = ChoixPivot(S_2)\n",
    "print(\"S_2_choix =\\n\", S_2_choix)\n",
    "\n",
    "# S_3\n",
    "S_3 = np.array([[0, 1, 1, 0], [1, 0, 0, 1], [2, 0, 3, 0]], dtype=float)\n",
    "print(\"S_3 =\\n\", S_3)\n",
    "\n",
    "S_3_choix = ChoixPivot(S_3)\n",
    "print(\"S_3_choix =\\n\", S_3_choix)\n",
    "\n",
    "# S_4\n",
    "S_4 = np.array([[0, 1, 0], [0, 0, 2]], dtype=float)\n",
    "print(\"S_4 =\\n\", S_4)\n",
    "\n",
    "S_4_choix = ChoixPivot(S_4)\n",
    "print(\"S_4_choix =\\n\", S_4_choix)\n",
    "\n",
    "# S_5\n",
    "S_5 = np.random.randn(10, 11)\n",
    "print(\"S_5 =\\n\", np.round(S_5, 2))    # On arrondit les valeurs pour un affichage plus lisible.\n",
    "\n",
    "S_5_choix = ChoixPivot(S_5)\n",
    "print(\"S_5_choix =\\n\", np.round(S_5_choix, 2))"
   ]
  },
  {
   "cell_type": "markdown",
   "metadata": {},
   "source": [
    "### 4.2. Élimination à l'aide du pivot\n",
    "\n",
    "On donne la fonction `EliminationPivot(S_choix)` qui prend en argument une matrice `S_choix` de taille quelconque dont le coefficient $(0, 0)$ est égal à $1$ (autrement dit une sortie de la fonction `ChoixPivot`), qui effectue les transvections nécessaires pour annuler tous les autres coefficients de la colonne $0$, et qui renvoie la matrice ainsi obtenue."
   ]
  },
  {
   "cell_type": "code",
   "execution_count": null,
   "metadata": {},
   "outputs": [],
   "source": [
    "def EliminationPivot(S_choix):\n",
    "    beta = -S_choix[1:, 0]\n",
    "    return SuiteTransvections(S_choix, beta)"
   ]
  },
  {
   "cell_type": "markdown",
   "metadata": {},
   "source": [
    "Tester la fonction `EliminationPivot(S_choix)` sur les matrices `S_2_choix`, `S_3_choix` et `S_5_choix` ci-dessus."
   ]
  },
  {
   "cell_type": "code",
   "execution_count": null,
   "metadata": {},
   "outputs": [],
   "source": [
    "print(\"S_2_choix =\\n\", S_2_choix)\n",
    "S_2_elimination = EliminationPivot(S_2_choix)\n",
    "print(\"S_2_elimination =\\n\", S_2_elimination)\n",
    "\n",
    "print(\"S_3_choix =\\n\", S_3_choix)\n",
    "S_3_elimination = EliminationPivot(S_3_choix)\n",
    "print(\"S_3_elimination =\\n\", S_3_elimination)\n",
    "\n",
    "print(\"S_5_choix =\\n\", np.round(S_5_choix, 2))\n",
    "S_5_elimination = EliminationPivot(S_5_choix)\n",
    "print(\"S_5_elimination =\\n\", np.round(S_5_elimination, 2))"
   ]
  },
  {
   "cell_type": "markdown",
   "metadata": {},
   "source": [
    "### 4.3. Échelonnement d'un système inversible\n",
    "\n",
    "Définir de manière récursive une fonction `Echelonnement(S)` qui prend en argument une matrice `S` dans $\\mathcal{M}_{n, n+1}(\\mathbb{R})$ correspondant à un système inversible (i.e. les $n$ premières colonnes forment une matrice carrée inversible) et renvoie une matrice `S_triangularise` correspondant à un système triangulaire supérieur avec des 1 sur la diagonale, obtenue à partir de `S` par une suite d'opérations élémentaires. Si le système n'est pas inversible, la fonction renvoie un message d'erreur."
   ]
  },
  {
   "cell_type": "code",
   "execution_count": null,
   "metadata": {},
   "outputs": [],
   "source": [
    "def Echelonnement(S):\n",
    "    # Solution\n",
    "    \n",
    "    # Fin solution"
   ]
  },
  {
   "cell_type": "markdown",
   "metadata": {},
   "source": [
    "Tester la fonction `Echelonnement(S)` sur les matrices `S_2`, `S_3` et `S_5` ci-dessus."
   ]
  },
  {
   "cell_type": "code",
   "execution_count": null,
   "metadata": {},
   "outputs": [],
   "source": [
    "print(\"S_2 =\\n\", S_2)\n",
    "print(\"S_2_triangularise =\\n\", Echelonnement(S_2))\n",
    "\n",
    "print(\"S_3 =\\n\", S_3)\n",
    "print(\"S_3_triangularise =\\n\", Echelonnement(S_3))\n",
    "\n",
    "print(\"S_5 =\\n\", np.round(S_5, 2))\n",
    "print(\"S_5_triangularise =\\n\", np.round(Echelonnement(S_5), 2))"
   ]
  },
  {
   "cell_type": "markdown",
   "metadata": {},
   "source": [
    "## 5. Résolution d'un système inversible et calcul d'inverse\n",
    "\n",
    "On donne la fonction `Resolution(S)` qui prend en argument une matrice `S` correspondant à un système inversible, et qui renvoie la matrice correspondant au système résolu, dans laquelle la solution se lit sur la dernière colonne."
   ]
  },
  {
   "cell_type": "code",
   "execution_count": null,
   "metadata": {},
   "outputs": [],
   "source": [
    "def Resolution(S):\n",
    "    return ResolutionEchelonne(Echelonnement(S))"
   ]
  },
  {
   "cell_type": "markdown",
   "metadata": {},
   "source": [
    "Tester la fonction `Resolution(S)` avec le système $(\\mathcal{S})$ de la section 1."
   ]
  },
  {
   "cell_type": "code",
   "execution_count": null,
   "metadata": {},
   "outputs": [],
   "source": [
    "print(\"S =\\n\", S)\n",
    "print(\"S_resolu =\\n\", Resolution(S))\n",
    "print(\"Vérification : np.linalg.solve(A, B) =\\n\", np.linalg.solve(A, B))"
   ]
  },
  {
   "cell_type": "markdown",
   "metadata": {},
   "source": [
    "Comment utiliser cette fonction pour calculer l'inverse d'une matrice inversible, par exemple\n",
    "$$\n",
    "A = \\begin{pmatrix}\n",
    "2 & 4 & -1 \\\\\n",
    "4 & 0 & -2 \\\\\n",
    "1 & 2 & 1\n",
    "\\end{pmatrix}\\ ?\n",
    "$$\n",
    "Comparer le résultat avec la fonction `np.linalg.inv`."
   ]
  },
  {
   "cell_type": "code",
   "execution_count": null,
   "metadata": {},
   "outputs": [],
   "source": [
    "# Solution\n",
    "\n",
    "# Fin solution"
   ]
  },
  {
   "cell_type": "markdown",
   "metadata": {},
   "source": [
    "## 6. Retour sur le choix du pivot (stabilité numérique)\n",
    "\n",
    "Écrire une fonction `ChoixPivot_2(S)` qui fait la même chose que la fonction `ChoixPivot(S)`, mais en choisissant comme pivot le premier élément non nul de la colonne 0. Écrire également la fonction `Triangularisation_2(S)` correspondante. On en déduit la fonction et `Resolution_2(S)`."
   ]
  },
  {
   "cell_type": "code",
   "execution_count": null,
   "metadata": {},
   "outputs": [],
   "source": [
    "def ChoixPivot_2(S):\n",
    "    # Solution\n",
    "    \n",
    "    # Fin solution\n",
    "\n",
    "\n",
    "def Echelonnement_2(S):\n",
    "    # Solution\n",
    "    \n",
    "    # Fin solution\n",
    "\n",
    "\n",
    "def Resolution_2(S):\n",
    "    return ResolutionEchelonne(Echelonnement_2(S))"
   ]
  },
  {
   "cell_type": "markdown",
   "metadata": {},
   "source": [
    "Tester la fonction `Resolution_2(S)` sur le système\n",
    "$$\n",
    "(\\mathcal{S}_6) \\quad \\left\\lbrace\n",
    "\\begin{array}{rcrcrlc}\n",
    "0.00000000000001 x & + & y & + & z & = & 1 \\\\\n",
    "x & + & y & & & = & 1 \\\\\n",
    "2 x & + & y & & & = & 3 .\n",
    "\\end{array}\n",
    "\\right.\n",
    "$$\n",
    "et comparer avec `Resolution(S)`."
   ]
  },
  {
   "cell_type": "code",
   "execution_count": null,
   "metadata": {},
   "outputs": [],
   "source": [
    "S_6 = np.array([[1e-14, 1, 1, 1], [1, 1, 0, 1], [2, 1, 0, 3]], dtype=float)\n",
    "\n",
    "print(\"S_6 =\\n\", S_6)\n",
    "print(\"Resolution_2(S_6) =\\n\", Resolution_2(S_6))\n",
    "print(\"Resolution(S_6) =\\n\", Resolution(S_6))\n",
    "\n",
    "# Solution\n",
    "\n",
    "# Fin solution"
   ]
  },
  {
   "cell_type": "markdown",
   "metadata": {},
   "source": [
    "## 7. Le pivot de Gauss dans le cas général\n",
    "\n",
    "[*Cette question est difficile et facultative*]\n",
    "\n",
    "Écrire une fonction qui applique l'algorithme du pivot de Gauss pour donner toutes les solutions d'un système d'équations linéaires quelconque (pas nécessairement carré, ni inversible)."
   ]
  },
  {
   "cell_type": "code",
   "execution_count": null,
   "metadata": {},
   "outputs": [],
   "source": []
  }
 ],
 "metadata": {
  "anaconda-cloud": {},
  "kernelspec": {
   "display_name": "Python 3 (ipykernel)",
   "language": "python",
   "name": "python3"
  },
  "language_info": {
   "codemirror_mode": {
    "name": "ipython",
    "version": 3
   },
   "file_extension": ".py",
   "mimetype": "text/x-python",
   "name": "python",
   "nbconvert_exporter": "python",
   "pygments_lexer": "ipython3",
   "version": "3.9.12"
  }
 },
 "nbformat": 4,
 "nbformat_minor": 1
}
